{
 "cells": [
  {
   "cell_type": "markdown",
   "id": "ada303f6",
   "metadata": {},
   "source": [
    "# 6.1.4 Generate Random Latitudes and Longitudes"
   ]
  },
  {
   "cell_type": "code",
   "execution_count": 1,
   "id": "43d1219a",
   "metadata": {},
   "outputs": [],
   "source": [
    "# Create a practice set of random latitude and longitude combinations.\n",
    "x = [25.12903645, 25.92017388, 26.62509167, -59.98969384, 37.30571269]\n",
    "y = [-67.59741259, 11.09532135, 74.84233102, -76.89176677, -61.13376282]\n",
    "coordinates = zip(x, y)"
   ]
  },
  {
   "cell_type": "code",
   "execution_count": 2,
   "id": "51148ad7",
   "metadata": {},
   "outputs": [
    {
     "name": "stdout",
     "output_type": "stream",
     "text": [
      "25.12903645 -67.59741259\n",
      "25.92017388 11.09532135\n",
      "26.62509167 74.84233102\n",
      "-59.98969384 -76.89176677\n",
      "37.30571269 -61.13376282\n"
     ]
    }
   ],
   "source": [
    "# Use the tuple() function to display the latitude and longitude combinations.\n",
    "for coordinate in coordinates:\n",
    "    print(coordinate[0], coordinate[1])"
   ]
  },
  {
   "cell_type": "markdown",
   "id": "05284366",
   "metadata": {},
   "source": [
    "# 6.1.5 Generate Random World Cities"
   ]
  },
  {
   "cell_type": "code",
   "execution_count": 3,
   "id": "66870a60",
   "metadata": {},
   "outputs": [
    {
     "name": "stdout",
     "output_type": "stream",
     "text": [
      "tainan\n",
      "tw\n"
     ]
    }
   ],
   "source": [
    "# Use the citipy module to determine city based on latitude and longitude.\n",
    "from citipy import citipy\n",
    "city = citipy.nearest_city(22.99,120.21)\n",
    "print(city.city_name)\n",
    "print(city.country_code)"
   ]
  },
  {
   "cell_type": "code",
   "execution_count": 4,
   "id": "b509e033",
   "metadata": {},
   "outputs": [
    {
     "name": "stdout",
     "output_type": "stream",
     "text": [
      "cockburn town tc\n",
      "gat ly\n",
      "parvatsar in\n",
      "punta arenas cl\n",
      "saint george bm\n"
     ]
    }
   ],
   "source": [
    "# Create a practice set of random latitude and longitude combinations.\n",
    "x = [25.12903645, 25.92017388, 26.62509167, -59.98969384, 37.30571269]\n",
    "y = [-67.59741259, 11.09532135, 74.84233102, -76.89176677, -61.13376282]\n",
    "coordinates = zip(x, y)\n",
    "\n",
    "# Use the tuple() function to display the latitude and longitude combinations.\n",
    "for coordinate in coordinates:\n",
    "    print(citipy.nearest_city(coordinate[0], coordinate[1]).city_name,\n",
    "          citipy.nearest_city(coordinate[0], coordinate[1]).country_code)"
   ]
  },
  {
   "cell_type": "markdown",
   "id": "64db2875",
   "metadata": {},
   "source": [
    "# 6.2.3 Make an API Call"
   ]
  },
  {
   "cell_type": "code",
   "execution_count": 5,
   "id": "9e85f2eb",
   "metadata": {},
   "outputs": [],
   "source": [
    "# Import the requests library.\n",
    "import requests\n",
    "\n",
    "# Import the API key.\n",
    "from config import weather_api_key"
   ]
  },
  {
   "cell_type": "code",
   "execution_count": 6,
   "id": "0dc6db56",
   "metadata": {},
   "outputs": [],
   "source": [
    "# Use the URL provided on the OpenWeatherMap website\n",
    "\n",
    "# api.openweathermap.org/data/2.5/weather?q=city&appid=b6907d289e10d714a6e88b30761fae22"
   ]
  },
  {
   "cell_type": "code",
   "execution_count": 75,
   "id": "01a16e8a",
   "metadata": {},
   "outputs": [
    {
     "name": "stdout",
     "output_type": "stream",
     "text": [
      "http://api.openweathermap.org/data/2.5/weather?units=Imperial&APPID=15b3e1ee412c2a8c1876365b747ac5a6\n"
     ]
    }
   ],
   "source": [
    "# Starting URL for Weather Map API Call.\n",
    "url = \"http://api.openweathermap.org/data/2.5/weather?units=Imperial&APPID=\" + weather_api_key\n",
    "\n",
    "print(url)"
   ]
  },
  {
   "cell_type": "code",
   "execution_count": 8,
   "id": "fb2bd319",
   "metadata": {},
   "outputs": [],
   "source": [
    "# Create an endpoint URL for a city.\n",
    "city_url = url + \"&q=\" + \"Boston\"\n",
    "#print(city_url)"
   ]
  },
  {
   "cell_type": "markdown",
   "id": "3072368f",
   "metadata": {},
   "source": [
    "# 6.2.4 Make a Request for Data to an API"
   ]
  },
  {
   "cell_type": "markdown",
   "id": "f0b84105",
   "metadata": {},
   "source": [
    "### Video example"
   ]
  },
  {
   "cell_type": "code",
   "execution_count": 45,
   "id": "9a36802b",
   "metadata": {},
   "outputs": [],
   "source": [
    "# Import the requests library.\n",
    "import requests\n",
    "\n",
    "# Import the API key.\n",
    "from config import weather_api_key"
   ]
  },
  {
   "cell_type": "code",
   "execution_count": 77,
   "id": "5a997ee4",
   "metadata": {},
   "outputs": [],
   "source": [
    "# Save the base of our API url as a variable with the API key \n",
    "url_2 = \"http://api.openweathermap.org/data/2.5/weather?\"\n",
    "# Save London as a variable names city\n",
    "city = \"London\""
   ]
  },
  {
   "cell_type": "code",
   "execution_count": 53,
   "id": "79101421",
   "metadata": {},
   "outputs": [],
   "source": [
    "# Build out our full API url request \n",
    "query_url = url_2 + \"appid=\" + weather_api_key + \"&q=\" + city "
   ]
  },
  {
   "cell_type": "code",
   "execution_count": 54,
   "id": "bab8d7eb",
   "metadata": {},
   "outputs": [],
   "source": [
    "# Request data from the open weathermap API using .get() method from the requests library to save our API response to a variable\n",
    "# Save the response variable\n",
    "weather_response = requests.get(query_url)\n",
    "# Convert the request to JSON format using .json() method of the response variable by saving this output  \n",
    "weather_json = weather_response.json()"
   ]
  },
  {
   "cell_type": "code",
   "execution_count": 55,
   "id": "59c17368",
   "metadata": {},
   "outputs": [
    {
     "data": {
      "text/plain": [
       "dict_keys(['coord', 'weather', 'base', 'main', 'visibility', 'wind', 'clouds', 'dt', 'sys', 'timezone', 'id', 'name', 'cod'])"
      ]
     },
     "execution_count": 55,
     "metadata": {},
     "output_type": "execute_result"
    }
   ],
   "source": [
    "# Use .keys() method to look at all of the keys of the response \n",
    "weather_json.keys()"
   ]
  },
  {
   "cell_type": "code",
   "execution_count": 56,
   "id": "e8b1caa6",
   "metadata": {},
   "outputs": [
    {
     "data": {
      "text/plain": [
       "{'temp': 288.19,\n",
       " 'feels_like': 288.15,\n",
       " 'temp_min': 286.55,\n",
       " 'temp_max': 289.98,\n",
       " 'pressure': 1008,\n",
       " 'humidity': 92}"
      ]
     },
     "execution_count": 56,
     "metadata": {},
     "output_type": "execute_result"
    }
   ],
   "source": [
    "# Obtain json values for keys\n",
    "weather_json.get(\"main\")"
   ]
  },
  {
   "cell_type": "markdown",
   "id": "9c4d6739",
   "metadata": {},
   "source": [
    "### Retrieve a Response Using the get() Method"
   ]
  },
  {
   "cell_type": "code",
   "execution_count": 57,
   "id": "429df14b",
   "metadata": {},
   "outputs": [
    {
     "data": {
      "text/plain": [
       "<Response [200]>"
      ]
     },
     "execution_count": 57,
     "metadata": {},
     "output_type": "execute_result"
    }
   ],
   "source": [
    "# Make a 'Get' request for the city weather.\n",
    "city_weather = requests.get(city_url)\n",
    "city_weather\n",
    "\n",
    "# Output: Will get a response number. Indicates a valid response"
   ]
  },
  {
   "cell_type": "code",
   "execution_count": 58,
   "id": "4f9b168c",
   "metadata": {},
   "outputs": [
    {
     "data": {
      "text/plain": [
       "200"
      ]
     },
     "execution_count": 58,
     "metadata": {},
     "output_type": "execute_result"
    }
   ],
   "source": [
    "# Chain the status_code to the city_weather variable\n",
    "city_weather.status_code"
   ]
  },
  {
   "cell_type": "code",
   "execution_count": 59,
   "id": "0f6f7e9e",
   "metadata": {},
   "outputs": [
    {
     "data": {
      "text/plain": [
       "<Response [404]>"
      ]
     },
     "execution_count": 59,
     "metadata": {},
     "output_type": "execute_result"
    }
   ],
   "source": [
    "# Create an endpoint URL for a city with a misspelling. \n",
    "city_url = url + \"&q=\" + \"Bston\"\n",
    "city_weather = requests.get(city_url)\n",
    "city_weather\n",
    "\n",
    "# Output: 404: We are trying to get data from an unrecognized city or the weather data isn't available"
   ]
  },
  {
   "cell_type": "markdown",
   "id": "1753d571",
   "metadata": {},
   "source": [
    "### Get Data from a Response"
   ]
  },
  {
   "cell_type": "code",
   "execution_count": 60,
   "id": "b6ab2b8b",
   "metadata": {},
   "outputs": [
    {
     "data": {
      "text/plain": [
       "<Response [200]>"
      ]
     },
     "execution_count": 60,
     "metadata": {},
     "output_type": "execute_result"
    }
   ],
   "source": [
    "# Create an endpoint URL for a city.\n",
    "city_url = url + \"&q=\" + \"Boston\"\n",
    "city_weather = requests.get(city_url)\n",
    "city_weather"
   ]
  },
  {
   "cell_type": "code",
   "execution_count": 61,
   "id": "fd98502a",
   "metadata": {},
   "outputs": [
    {
     "data": {
      "text/plain": [
       "'{\"coord\":{\"lon\":-71.0598,\"lat\":42.3584},\"weather\":[{\"id\":801,\"main\":\"Clouds\",\"description\":\"few clouds\",\"icon\":\"02d\"}],\"base\":\"stations\",\"main\":{\"temp\":72.66,\"feels_like\":72.36,\"temp_min\":68.63,\"temp_max\":76.78,\"pressure\":1016,\"humidity\":58},\"visibility\":10000,\"wind\":{\"speed\":3,\"deg\":180,\"gust\":5.99},\"clouds\":{\"all\":20},\"dt\":1627507443,\"sys\":{\"type\":2,\"id\":2013408,\"country\":\"US\",\"sunrise\":1627464773,\"sunset\":1627517301},\"timezone\":-14400,\"id\":4930956,\"name\":\"Boston\",\"cod\":200}'"
      ]
     },
     "execution_count": 61,
     "metadata": {},
     "output_type": "execute_result"
    }
   ],
   "source": [
    "# Get the text of the 'Get' request.\n",
    "city_weather.text"
   ]
  },
  {
   "cell_type": "code",
   "execution_count": 62,
   "id": "44a23575",
   "metadata": {},
   "outputs": [
    {
     "data": {
      "text/plain": [
       "{'coord': {'lon': -71.0598, 'lat': 42.3584},\n",
       " 'weather': [{'id': 801,\n",
       "   'main': 'Clouds',\n",
       "   'description': 'few clouds',\n",
       "   'icon': '02d'}],\n",
       " 'base': 'stations',\n",
       " 'main': {'temp': 72.66,\n",
       "  'feels_like': 72.36,\n",
       "  'temp_min': 68.63,\n",
       "  'temp_max': 76.78,\n",
       "  'pressure': 1016,\n",
       "  'humidity': 58},\n",
       " 'visibility': 10000,\n",
       " 'wind': {'speed': 3, 'deg': 180, 'gust': 5.99},\n",
       " 'clouds': {'all': 20},\n",
       " 'dt': 1627507443,\n",
       " 'sys': {'type': 2,\n",
       "  'id': 2013408,\n",
       "  'country': 'US',\n",
       "  'sunrise': 1627464773,\n",
       "  'sunset': 1627517301},\n",
       " 'timezone': -14400,\n",
       " 'id': 4930956,\n",
       " 'name': 'Boston',\n",
       " 'cod': 200}"
      ]
     },
     "execution_count": 62,
     "metadata": {},
     "output_type": "execute_result"
    }
   ],
   "source": [
    "# Get the JSON text of the 'Get' request.\n",
    "city_weather.json()"
   ]
  },
  {
   "cell_type": "markdown",
   "id": "cff736eb",
   "metadata": {},
   "source": [
    "### Handle Request Errors"
   ]
  },
  {
   "cell_type": "code",
   "execution_count": 63,
   "id": "8252d488",
   "metadata": {},
   "outputs": [
    {
     "name": "stdout",
     "output_type": "stream",
     "text": [
      "City Weather found.\n"
     ]
    }
   ],
   "source": [
    "# Create an endpoint URL for a city.\n",
    "city_url = url + \"&q=\" + \"Boston\"\n",
    "city_weather = requests.get(city_url)\n",
    "if city_weather.status_code == 200:\n",
    "    print(f\"City Weather found.\")\n",
    "else:\n",
    "    print(f\"City weather not found.\")"
   ]
  },
  {
   "cell_type": "code",
   "execution_count": 64,
   "id": "447a64a3",
   "metadata": {},
   "outputs": [
    {
     "name": "stdout",
     "output_type": "stream",
     "text": [
      "City Weather found.\n"
     ]
    }
   ],
   "source": [
    "# Create an endpoint URL for a city.\n",
    "city_url = url + \"&q=\" + \"Bston\"\n",
    "city_weather = requests.get(city_url)\n",
    "if city_weather.json():\n",
    "    print(f\"City Weather found.\")\n",
    "else:\n",
    "    print(f\"City weather not found.\")\n",
    "    \n",
    "# Output should be 'City Weather Not Found'. However, clicking on url displays cod: \"404\", message: \"city not found\" "
   ]
  },
  {
   "cell_type": "code",
   "execution_count": 65,
   "id": "5cf70dda",
   "metadata": {},
   "outputs": [
    {
     "name": "stdout",
     "output_type": "stream",
     "text": [
      "http://api.openweathermap.org/data/2.5/weather?units=Imperial&APPID=15b3e1ee412c2a8c1876365b747ac5a6&q=Bston\n"
     ]
    }
   ],
   "source": [
    "print(city_url)"
   ]
  },
  {
   "cell_type": "markdown",
   "id": "eca55487",
   "metadata": {},
   "source": [
    "# 6.2.5 Parse a Response from an API"
   ]
  },
  {
   "cell_type": "code",
   "execution_count": 66,
   "id": "9eacf23d",
   "metadata": {},
   "outputs": [
    {
     "data": {
      "text/plain": [
       "{'coord': {'lon': -71.0598, 'lat': 42.3584},\n",
       " 'weather': [{'id': 803,\n",
       "   'main': 'Clouds',\n",
       "   'description': 'broken clouds',\n",
       "   'icon': '04d'}],\n",
       " 'base': 'stations',\n",
       " 'main': {'temp': 67.93,\n",
       "  'feels_like': 67.71,\n",
       "  'temp_min': 64.94,\n",
       "  'temp_max': 70.61,\n",
       "  'pressure': 1015,\n",
       "  'humidity': 70},\n",
       " 'visibility': 10000,\n",
       " 'wind': {'speed': 1.01, 'deg': 64, 'gust': 3},\n",
       " 'clouds': {'all': 59},\n",
       " 'dt': 1627516642,\n",
       " 'sys': {'type': 2,\n",
       "  'id': 2001997,\n",
       "  'country': 'US',\n",
       "  'sunrise': 1627464773,\n",
       "  'sunset': 1627517301},\n",
       " 'timezone': -14400,\n",
       " 'id': 4930956,\n",
       " 'name': 'Boston',\n",
       " 'cod': 200}"
      ]
     },
     "execution_count": 66,
     "metadata": {},
     "output_type": "execute_result"
    }
   ],
   "source": [
    "# Create an endpoint URL for a city.\n",
    "city_url = url + \"&q=\" + \"Boston\"\n",
    "city_weather = requests.get(city_url)\n",
    "city_weather.json()"
   ]
  },
  {
   "cell_type": "code",
   "execution_count": 67,
   "id": "895db317",
   "metadata": {},
   "outputs": [],
   "source": [
    "# Get the JSON data. (assign a variable to the city_weather.json() data to the variable \"boston_data\")\n",
    "boston_data = city_weather.json()"
   ]
  },
  {
   "cell_type": "code",
   "execution_count": 68,
   "id": "559fa524",
   "metadata": {},
   "outputs": [
    {
     "data": {
      "text/plain": [
       "{'type': 2,\n",
       " 'id': 2001997,\n",
       " 'country': 'US',\n",
       " 'sunrise': 1627464773,\n",
       " 'sunset': 1627517301}"
      ]
     },
     "execution_count": 68,
     "metadata": {},
     "output_type": "execute_result"
    }
   ],
   "source": [
    "# Use the sys key to get the corresponding value\n",
    "boston_data['sys']"
   ]
  },
  {
   "cell_type": "code",
   "execution_count": 69,
   "id": "a0717519",
   "metadata": {},
   "outputs": [
    {
     "data": {
      "text/plain": [
       "'US'"
      ]
     },
     "execution_count": 69,
     "metadata": {},
     "output_type": "execute_result"
    }
   ],
   "source": [
    "# Add country in brackets\n",
    "boston_data['sys'][\"country\"]"
   ]
  },
  {
   "cell_type": "code",
   "execution_count": 70,
   "id": "55a79adb",
   "metadata": {},
   "outputs": [
    {
     "data": {
      "text/plain": [
       "1627516642"
      ]
     },
     "execution_count": 70,
     "metadata": {},
     "output_type": "execute_result"
    }
   ],
   "source": [
    "# Retrieve the date in the weather data\n",
    "boston_data[\"dt\"]"
   ]
  },
  {
   "cell_type": "markdown",
   "id": "6584579c",
   "metadata": {},
   "source": [
    "### Convert the Date Timestamp"
   ]
  },
  {
   "cell_type": "code",
   "execution_count": 71,
   "id": "0a000564",
   "metadata": {},
   "outputs": [
    {
     "data": {
      "text/plain": [
       "datetime.datetime(2021, 7, 28, 23, 57, 22)"
      ]
     },
     "execution_count": 71,
     "metadata": {},
     "output_type": "execute_result"
    }
   ],
   "source": [
    "# Import the datetime module from the datetime library.\n",
    "from datetime import datetime\n",
    "\n",
    "# Get the date from the JSON file.\n",
    "date = boston_data[\"dt\"]\n",
    "\n",
    "# Convert the UTC date to a date format with year, month, day, hours, minutes, and seconds.\n",
    "datetime.utcfromtimestamp(date)"
   ]
  },
  {
   "cell_type": "code",
   "execution_count": 72,
   "id": "76df41b7",
   "metadata": {},
   "outputs": [
    {
     "data": {
      "text/plain": [
       "'2021-07-28 23:57:22'"
      ]
     },
     "execution_count": 72,
     "metadata": {},
     "output_type": "execute_result"
    }
   ],
   "source": [
    "# Convert datetime format to 2019-10-21 17:24:35 using Python string format method strftime() and adding how we want the string to look inside the parentheses\n",
    "datetime.utcfromtimestamp(date).strftime('%Y-%m-%d %H:%M:%S')"
   ]
  }
 ],
 "metadata": {
  "kernelspec": {
   "display_name": "PythonData",
   "language": "python",
   "name": "pythondata"
  },
  "language_info": {
   "codemirror_mode": {
    "name": "ipython",
    "version": 3
   },
   "file_extension": ".py",
   "mimetype": "text/x-python",
   "name": "python",
   "nbconvert_exporter": "python",
   "pygments_lexer": "ipython3",
   "version": "3.7.10"
  }
 },
 "nbformat": 4,
 "nbformat_minor": 5
}
